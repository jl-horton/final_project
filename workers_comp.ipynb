{
 "cells": [
  {
   "cell_type": "markdown",
   "metadata": {},
   "source": []
  },
  {
   "cell_type": "code",
   "execution_count": 14,
   "metadata": {},
   "outputs": [],
   "source": [
    "import zipfile\r\n",
    "import numpy\r\n",
    "import pandas as pd"
   ]
  },
  {
   "cell_type": "code",
   "execution_count": 34,
   "metadata": {},
   "outputs": [],
   "source": [
    "# File to load\r\n",
    "zf = zipfile.ZipFile('Dataset/assembled-workers-compensation-claims-beginning-2000.zip')\r\n",
    "\r\n",
    "# Read the file in\r\n",
    "wc_data_df = pd.read_csv(zf.open('assembled-workers-compensation-claims-beginning-2000.csv'))"
   ]
  },
  {
   "cell_type": "code",
   "execution_count": 35,
   "metadata": {},
   "outputs": [
    {
     "data": {
      "text/html": "<div>\n<style scoped>\n    .dataframe tbody tr th:only-of-type {\n        vertical-align: middle;\n    }\n\n    .dataframe tbody tr th {\n        vertical-align: top;\n    }\n\n    .dataframe thead th {\n        text-align: right;\n    }\n</style>\n<table border=\"1\" class=\"dataframe\">\n  <thead>\n    <tr style=\"text-align: right;\">\n      <th></th>\n      <th>Claim Identifier</th>\n      <th>Claim Type</th>\n      <th>District Name</th>\n      <th>Average Weekly Wage</th>\n      <th>Current Claim Status</th>\n      <th>Claim Injury Type</th>\n      <th>Age at Injury</th>\n      <th>Assembly Date</th>\n      <th>Accident Date</th>\n      <th>ANCR Date</th>\n      <th>...</th>\n      <th>Closed Count</th>\n      <th>Attorney/Representative</th>\n      <th>Carrier Name</th>\n      <th>Carrier Type</th>\n      <th>IME-4 Count</th>\n      <th>Interval Assembled to ANCR</th>\n      <th>Accident</th>\n      <th>Occupational Disease</th>\n      <th>County of Injury</th>\n      <th>COVID-19 Indicator</th>\n    </tr>\n  </thead>\n  <tbody>\n    <tr>\n      <th>0</th>\n      <td>1</td>\n      <td>WORKERS COMPENSATION CLAIM</td>\n      <td>NYC</td>\n      <td>200.00</td>\n      <td>NO FURTHER ACTION</td>\n      <td>5. PPD SCH LOSS</td>\n      <td>72</td>\n      <td>2000-01-03T00:00:00.000</td>\n      <td>1999-11-01T00:00:00.000</td>\n      <td>2001-12-14T00:00:00.000</td>\n      <td>...</td>\n      <td>2</td>\n      <td>Y</td>\n      <td>POLICE, FIRE, SANITATION</td>\n      <td>3A. SELF PUBLIC</td>\n      <td>1.0</td>\n      <td>711.0</td>\n      <td>Y</td>\n      <td>N</td>\n      <td>NEW YORK</td>\n      <td>N</td>\n    </tr>\n    <tr>\n      <th>1</th>\n      <td>2</td>\n      <td>WORKERS COMPENSATION CLAIM</td>\n      <td>NYC</td>\n      <td>296.51</td>\n      <td>NO FURTHER ACTION</td>\n      <td>6. PPD NSL</td>\n      <td>43</td>\n      <td>2000-01-03T00:00:00.000</td>\n      <td>1999-08-31T00:00:00.000</td>\n      <td>2001-03-30T00:00:00.000</td>\n      <td>...</td>\n      <td>8</td>\n      <td>Y</td>\n      <td>NATIONAL FIRE INSURANCE CO</td>\n      <td>1A. PRIVATE</td>\n      <td>6.0</td>\n      <td>452.0</td>\n      <td>Y</td>\n      <td>N</td>\n      <td>NEW YORK</td>\n      <td>N</td>\n    </tr>\n    <tr>\n      <th>2</th>\n      <td>3</td>\n      <td>WORKERS COMPENSATION CLAIM</td>\n      <td>NYC</td>\n      <td>0.00</td>\n      <td>NO FURTHER ACTION</td>\n      <td>2. NON-COMP</td>\n      <td>69</td>\n      <td>2000-01-03T00:00:00.000</td>\n      <td>1999-11-01T00:00:00.000</td>\n      <td>NaN</td>\n      <td>...</td>\n      <td>1</td>\n      <td>N</td>\n      <td>HEALTH &amp; HOSPITALS CORP. CNY</td>\n      <td>3A. SELF PUBLIC</td>\n      <td>NaN</td>\n      <td>NaN</td>\n      <td>Y</td>\n      <td>N</td>\n      <td>NEW YORK</td>\n      <td>N</td>\n    </tr>\n    <tr>\n      <th>3</th>\n      <td>4</td>\n      <td>WORKERS COMPENSATION CLAIM</td>\n      <td>NYC</td>\n      <td>250.00</td>\n      <td>NO FURTHER ACTION</td>\n      <td>5. PPD SCH LOSS</td>\n      <td>38</td>\n      <td>2000-01-03T00:00:00.000</td>\n      <td>1999-11-18T00:00:00.000</td>\n      <td>2000-08-25T00:00:00.000</td>\n      <td>...</td>\n      <td>2</td>\n      <td>Y</td>\n      <td>HEREFORD INSURANCE COMPANY</td>\n      <td>1A. PRIVATE</td>\n      <td>1.0</td>\n      <td>235.0</td>\n      <td>Y</td>\n      <td>N</td>\n      <td>NEW YORK</td>\n      <td>N</td>\n    </tr>\n    <tr>\n      <th>4</th>\n      <td>6</td>\n      <td>WORKERS COMPENSATION CLAIM</td>\n      <td>NYC</td>\n      <td>584.33</td>\n      <td>NO FURTHER ACTION</td>\n      <td>4. TEMPORARY</td>\n      <td>45</td>\n      <td>2000-01-03T00:00:00.000</td>\n      <td>1999-10-06T00:00:00.000</td>\n      <td>2000-09-01T00:00:00.000</td>\n      <td>...</td>\n      <td>1</td>\n      <td>Y</td>\n      <td>INSURANCE CO OF GREATER N Y</td>\n      <td>1A. PRIVATE</td>\n      <td>1.0</td>\n      <td>242.0</td>\n      <td>Y</td>\n      <td>N</td>\n      <td>NEW YORK</td>\n      <td>N</td>\n    </tr>\n  </tbody>\n</table>\n<p>5 rows × 52 columns</p>\n</div>",
      "text/plain": "   Claim Identifier                  Claim Type District Name  \\\n0                 1  WORKERS COMPENSATION CLAIM           NYC   \n1                 2  WORKERS COMPENSATION CLAIM           NYC   \n2                 3  WORKERS COMPENSATION CLAIM           NYC   \n3                 4  WORKERS COMPENSATION CLAIM           NYC   \n4                 6  WORKERS COMPENSATION CLAIM           NYC   \n\n   Average Weekly Wage Current Claim Status Claim Injury Type  Age at Injury  \\\n0               200.00    NO FURTHER ACTION   5. PPD SCH LOSS             72   \n1               296.51    NO FURTHER ACTION        6. PPD NSL             43   \n2                 0.00    NO FURTHER ACTION       2. NON-COMP             69   \n3               250.00    NO FURTHER ACTION   5. PPD SCH LOSS             38   \n4               584.33    NO FURTHER ACTION      4. TEMPORARY             45   \n\n             Assembly Date            Accident Date                ANCR Date  \\\n0  2000-01-03T00:00:00.000  1999-11-01T00:00:00.000  2001-12-14T00:00:00.000   \n1  2000-01-03T00:00:00.000  1999-08-31T00:00:00.000  2001-03-30T00:00:00.000   \n2  2000-01-03T00:00:00.000  1999-11-01T00:00:00.000                      NaN   \n3  2000-01-03T00:00:00.000  1999-11-18T00:00:00.000  2000-08-25T00:00:00.000   \n4  2000-01-03T00:00:00.000  1999-10-06T00:00:00.000  2000-09-01T00:00:00.000   \n\n   ... Closed Count Attorney/Representative                  Carrier Name  \\\n0  ...            2                       Y      POLICE, FIRE, SANITATION   \n1  ...            8                       Y    NATIONAL FIRE INSURANCE CO   \n2  ...            1                       N  HEALTH & HOSPITALS CORP. CNY   \n3  ...            2                       Y    HEREFORD INSURANCE COMPANY   \n4  ...            1                       Y   INSURANCE CO OF GREATER N Y   \n\n      Carrier Type IME-4 Count Interval Assembled to ANCR  Accident  \\\n0  3A. SELF PUBLIC         1.0                      711.0         Y   \n1      1A. PRIVATE         6.0                      452.0         Y   \n2  3A. SELF PUBLIC         NaN                        NaN         Y   \n3      1A. PRIVATE         1.0                      235.0         Y   \n4      1A. PRIVATE         1.0                      242.0         Y   \n\n  Occupational Disease  County of Injury COVID-19 Indicator  \n0                    N          NEW YORK                  N  \n1                    N          NEW YORK                  N  \n2                    N          NEW YORK                  N  \n3                    N          NEW YORK                  N  \n4                    N          NEW YORK                  N  \n\n[5 rows x 52 columns]"
     },
     "execution_count": 35,
     "metadata": {},
     "output_type": "execute_result"
    }
   ],
   "source": [
    "wc_data_df.head()"
   ]
  },
  {
   "cell_type": "code",
   "execution_count": 36,
   "metadata": {},
   "outputs": [
    {
     "name": "stdout",
     "output_type": "stream",
     "text": [
      "Claim Identifier                        int64\n",
      "Claim Type                             object\n",
      "District Name                          object\n",
      "Average Weekly Wage                   float64\n",
      "Current Claim Status                   object\n",
      "Claim Injury Type                      object\n",
      "Age at Injury                           int64\n",
      "Assembly Date                          object\n",
      "Accident Date                          object\n",
      "ANCR Date                              object\n",
      "Controverted Date                      object\n",
      "Section 32 Date                        object\n",
      "PPD Scheduled Loss Date                object\n",
      "PPD Non-Scheduled Loss Date            object\n",
      "PTD Date                               object\n",
      "First Appeal Date                      object\n",
      "WCIO Part Of Body Code                float64\n",
      "WCIO Part Of Body Description          object\n",
      "WCIO Nature of Injury Code            float64\n",
      "WCIO Nature of Injury Description      object\n",
      "WCIO Cause of Injury Code             float64\n",
      "WCIO Cause of Injury Description       object\n",
      "OIICS Part Of Body Code                object\n",
      "OIICS Part Of Body Description         object\n",
      "OIICS Nature of Injury Code            object\n",
      "OIICS Nature of Injury Description     object\n",
      "OIICS Injury Source Code               object\n",
      "OIICS Injury Source Description        object\n",
      "OIICS Event Exposure Code              object\n",
      "OIICS Event Exposure Description       object\n",
      "OIICS Secondary Source Code            object\n",
      "OIICS Secondary Source Description     object\n",
      "Alternative Dispute Resolution         object\n",
      "Gender                                 object\n",
      "Birth Year                              int64\n",
      "Zip Code                               object\n",
      "Medical Fee Region                     object\n",
      "C-2 Date                               object\n",
      "C-3 Date                               object\n",
      "First Hearing Date                     object\n",
      "Highest Process                        object\n",
      "Hearing Count                           int64\n",
      "Closed Count                            int64\n",
      "Attorney/Representative                object\n",
      "Carrier Name                           object\n",
      "Carrier Type                           object\n",
      "IME-4 Count                           float64\n",
      "Interval Assembled to ANCR            float64\n",
      "Accident                               object\n",
      "Occupational Disease                   object\n",
      "County of Injury                       object\n",
      "COVID-19 Indicator                     object\n",
      "dtype: object\n"
     ]
    }
   ],
   "source": [
    "print(wc_data_df.dtypes)"
   ]
  },
  {
   "cell_type": "code",
   "execution_count": 37,
   "metadata": {},
   "outputs": [],
   "source": [
    "# Change to date format  \r\n",
    "wc_data_df['Assembly Date'] = pd.to_datetime(wc_data_df['Assembly Date'])\r\n",
    "wc_data_df['Accident Date'] = pd.to_datetime(wc_data_df['Accident Date'])\r\n",
    "wc_data_df['ANCR Date'] = pd.to_datetime(wc_data_df['ANCR Date'])\r\n",
    "wc_data_df['Controverted Date'] = pd.to_datetime(wc_data_df['Controverted Date'])\r\n",
    "wc_data_df['Section 32 Date'] = pd.to_datetime(wc_data_df['Section 32 Date'])\r\n",
    "wc_data_df['PPD Scheduled Loss Date'] = pd.to_datetime(wc_data_df['PPD Scheduled Loss Date'])\r\n",
    "wc_data_df['PPD Non-Scheduled Loss Date'] = pd.to_datetime(wc_data_df['PPD Non-Scheduled Loss Date'])\r\n",
    "wc_data_df['PTD Date'] = pd.to_datetime(wc_data_df['PTD Date'])\r\n",
    "wc_data_df['First Appeal Date'] = pd.to_datetime(wc_data_df['First Appeal Date'])\r\n",
    "wc_data_df['Birth Year'] = pd.to_datetime(wc_data_df['Birth Year'])\r\n",
    "wc_data_df['C-2 Date'] = pd.to_datetime(wc_data_df['C-2 Date'])\r\n",
    "wc_data_df['C-3 Date'] = pd.to_datetime(wc_data_df['C-3 Date'])"
   ]
  },
  {
   "cell_type": "code",
   "execution_count": 38,
   "metadata": {},
   "outputs": [
    {
     "name": "stdout",
     "output_type": "stream",
     "text": [
      "Claim Identifier                               int64\n",
      "Claim Type                                    object\n",
      "District Name                                 object\n",
      "Average Weekly Wage                          float64\n",
      "Current Claim Status                          object\n",
      "Claim Injury Type                             object\n",
      "Age at Injury                                  int64\n",
      "Assembly Date                         datetime64[ns]\n",
      "Accident Date                         datetime64[ns]\n",
      "ANCR Date                             datetime64[ns]\n",
      "Controverted Date                     datetime64[ns]\n",
      "Section 32 Date                       datetime64[ns]\n",
      "PPD Scheduled Loss Date               datetime64[ns]\n",
      "PPD Non-Scheduled Loss Date           datetime64[ns]\n",
      "PTD Date                              datetime64[ns]\n",
      "First Appeal Date                     datetime64[ns]\n",
      "WCIO Part Of Body Code                       float64\n",
      "WCIO Part Of Body Description                 object\n",
      "WCIO Nature of Injury Code                   float64\n",
      "WCIO Nature of Injury Description             object\n",
      "WCIO Cause of Injury Code                    float64\n",
      "WCIO Cause of Injury Description              object\n",
      "OIICS Part Of Body Code                       object\n",
      "OIICS Part Of Body Description                object\n",
      "OIICS Nature of Injury Code                   object\n",
      "OIICS Nature of Injury Description            object\n",
      "OIICS Injury Source Code                      object\n",
      "OIICS Injury Source Description               object\n",
      "OIICS Event Exposure Code                     object\n",
      "OIICS Event Exposure Description              object\n",
      "OIICS Secondary Source Code                   object\n",
      "OIICS Secondary Source Description            object\n",
      "Alternative Dispute Resolution                object\n",
      "Gender                                        object\n",
      "Birth Year                            datetime64[ns]\n",
      "Zip Code                                      object\n",
      "Medical Fee Region                            object\n",
      "C-2 Date                              datetime64[ns]\n",
      "C-3 Date                              datetime64[ns]\n",
      "First Hearing Date                            object\n",
      "Highest Process                               object\n",
      "Hearing Count                                  int64\n",
      "Closed Count                                   int64\n",
      "Attorney/Representative                       object\n",
      "Carrier Name                                  object\n",
      "Carrier Type                                  object\n",
      "IME-4 Count                                  float64\n",
      "Interval Assembled to ANCR                   float64\n",
      "Accident                                      object\n",
      "Occupational Disease                          object\n",
      "County of Injury                              object\n",
      "COVID-19 Indicator                            object\n",
      "dtype: object\n"
     ]
    }
   ],
   "source": [
    "print(wc_data_df.dtypes)"
   ]
  },
  {
   "cell_type": "code",
   "execution_count": 1,
   "metadata": {},
   "outputs": [
    {
     "ename": "NameError",
     "evalue": "name 'wc_data_df' is not defined",
     "output_type": "error",
     "traceback": [
      "\u001b[1;31m---------------------------------------------------------------------------\u001b[0m",
      "\u001b[1;31mNameError\u001b[0m                                 Traceback (most recent call last)",
      "\u001b[1;32m<ipython-input-1-7a9eecbef147>\u001b[0m in \u001b[0;36m<module>\u001b[1;34m\u001b[0m\n\u001b[0;32m      1\u001b[0m \u001b[1;31m# Is incident accident or occupational disease?\u001b[0m\u001b[1;33m\u001b[0m\u001b[1;33m\u001b[0m\u001b[1;33m\u001b[0m\u001b[0m\n\u001b[1;32m----> 2\u001b[1;33m \u001b[0maccident\u001b[0m \u001b[1;33m=\u001b[0m \u001b[0mwc_data_df\u001b[0m\u001b[1;33m[\u001b[0m\u001b[1;33m[\u001b[0m\u001b[1;34m'Accident'\u001b[0m\u001b[1;33m]\u001b[0m \u001b[1;33m==\u001b[0m \u001b[1;34m'Y'\u001b[0m\u001b[1;33m]\u001b[0m\u001b[1;33m\u001b[0m\u001b[1;33m\u001b[0m\u001b[0m\n\u001b[0m",
      "\u001b[1;31mNameError\u001b[0m: name 'wc_data_df' is not defined"
     ]
    }
   ],
   "source": [
    "# Is incident accident or occupational disease? \r\n",
    "accident = wc_data_df[['Accident'] == 'Y']"
   ]
  }
 ],
 "metadata": {
  "kernelspec": {
   "display_name": "Python 3.8.8 64-bit ('base': conda)",
   "name": "python388jvsc74a57bd01f9996f6f32af82c4e176a0a6d5057d1b4d3b6190a2312ab7d514f9db0090e01"
  },
  "language_info": {
   "codemirror_mode": {
    "name": "ipython",
    "version": 3
   },
   "file_extension": ".py",
   "mimetype": "text/x-python",
   "name": "python",
   "nbconvert_exporter": "python",
   "pygments_lexer": "ipython3",
   "version": "3.8.8"
  },
  "orig_nbformat": 3
 },
 "nbformat": 4,
 "nbformat_minor": 2
}