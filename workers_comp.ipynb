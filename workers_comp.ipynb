{
 "cells": [
  {
   "cell_type": "markdown",
   "metadata": {},
   "source": []
  },
  {
   "cell_type": "code",
   "execution_count": 1,
   "metadata": {},
   "outputs": [],
   "source": [
    "import zipfile\r\n",
    "import numpy\r\n",
    "import pandas as pd"
   ]
  },
  {
   "cell_type": "code",
   "execution_count": 2,
   "metadata": {},
   "outputs": [],
   "source": [
    "# File to load\r\n",
    "zf = zipfile.ZipFile('Dataset/assembled-workers-compensation-claims-beginning-2000.zip')\r\n",
    "\r\n",
    "# Read the file in\r\n",
    "wc_data_df = pd.read_csv(zf.open('assembled-workers-compensation-claims-beginning-2000.csv'), low_memory=False)"
   ]
  },
  {
   "cell_type": "code",
   "execution_count": 3,
   "metadata": {},
   "outputs": [
    {
     "data": {
      "text/html": "<div>\n<style scoped>\n    .dataframe tbody tr th:only-of-type {\n        vertical-align: middle;\n    }\n\n    .dataframe tbody tr th {\n        vertical-align: top;\n    }\n\n    .dataframe thead th {\n        text-align: right;\n    }\n</style>\n<table border=\"1\" class=\"dataframe\">\n  <thead>\n    <tr style=\"text-align: right;\">\n      <th></th>\n      <th>Claim Identifier</th>\n      <th>Claim Type</th>\n      <th>District Name</th>\n      <th>Average Weekly Wage</th>\n      <th>Current Claim Status</th>\n      <th>Claim Injury Type</th>\n      <th>Age at Injury</th>\n      <th>Assembly Date</th>\n      <th>Accident Date</th>\n      <th>ANCR Date</th>\n      <th>...</th>\n      <th>Closed Count</th>\n      <th>Attorney/Representative</th>\n      <th>Carrier Name</th>\n      <th>Carrier Type</th>\n      <th>IME-4 Count</th>\n      <th>Interval Assembled to ANCR</th>\n      <th>Accident</th>\n      <th>Occupational Disease</th>\n      <th>County of Injury</th>\n      <th>COVID-19 Indicator</th>\n    </tr>\n  </thead>\n  <tbody>\n    <tr>\n      <th>0</th>\n      <td>1</td>\n      <td>WORKERS COMPENSATION CLAIM</td>\n      <td>NYC</td>\n      <td>200.00</td>\n      <td>NO FURTHER ACTION</td>\n      <td>5. PPD SCH LOSS</td>\n      <td>72</td>\n      <td>2000-01-03T00:00:00.000</td>\n      <td>1999-11-01T00:00:00.000</td>\n      <td>2001-12-14T00:00:00.000</td>\n      <td>...</td>\n      <td>2</td>\n      <td>Y</td>\n      <td>POLICE, FIRE, SANITATION</td>\n      <td>3A. SELF PUBLIC</td>\n      <td>1.0</td>\n      <td>711.0</td>\n      <td>Y</td>\n      <td>N</td>\n      <td>NEW YORK</td>\n      <td>N</td>\n    </tr>\n    <tr>\n      <th>1</th>\n      <td>2</td>\n      <td>WORKERS COMPENSATION CLAIM</td>\n      <td>NYC</td>\n      <td>296.51</td>\n      <td>NO FURTHER ACTION</td>\n      <td>6. PPD NSL</td>\n      <td>43</td>\n      <td>2000-01-03T00:00:00.000</td>\n      <td>1999-08-31T00:00:00.000</td>\n      <td>2001-03-30T00:00:00.000</td>\n      <td>...</td>\n      <td>8</td>\n      <td>Y</td>\n      <td>NATIONAL FIRE INSURANCE CO</td>\n      <td>1A. PRIVATE</td>\n      <td>6.0</td>\n      <td>452.0</td>\n      <td>Y</td>\n      <td>N</td>\n      <td>NEW YORK</td>\n      <td>N</td>\n    </tr>\n    <tr>\n      <th>2</th>\n      <td>3</td>\n      <td>WORKERS COMPENSATION CLAIM</td>\n      <td>NYC</td>\n      <td>0.00</td>\n      <td>NO FURTHER ACTION</td>\n      <td>2. NON-COMP</td>\n      <td>69</td>\n      <td>2000-01-03T00:00:00.000</td>\n      <td>1999-11-01T00:00:00.000</td>\n      <td>NaN</td>\n      <td>...</td>\n      <td>1</td>\n      <td>N</td>\n      <td>HEALTH &amp; HOSPITALS CORP. CNY</td>\n      <td>3A. SELF PUBLIC</td>\n      <td>NaN</td>\n      <td>NaN</td>\n      <td>Y</td>\n      <td>N</td>\n      <td>NEW YORK</td>\n      <td>N</td>\n    </tr>\n    <tr>\n      <th>3</th>\n      <td>4</td>\n      <td>WORKERS COMPENSATION CLAIM</td>\n      <td>NYC</td>\n      <td>250.00</td>\n      <td>NO FURTHER ACTION</td>\n      <td>5. PPD SCH LOSS</td>\n      <td>38</td>\n      <td>2000-01-03T00:00:00.000</td>\n      <td>1999-11-18T00:00:00.000</td>\n      <td>2000-08-25T00:00:00.000</td>\n      <td>...</td>\n      <td>2</td>\n      <td>Y</td>\n      <td>HEREFORD INSURANCE COMPANY</td>\n      <td>1A. PRIVATE</td>\n      <td>1.0</td>\n      <td>235.0</td>\n      <td>Y</td>\n      <td>N</td>\n      <td>NEW YORK</td>\n      <td>N</td>\n    </tr>\n    <tr>\n      <th>4</th>\n      <td>6</td>\n      <td>WORKERS COMPENSATION CLAIM</td>\n      <td>NYC</td>\n      <td>584.33</td>\n      <td>NO FURTHER ACTION</td>\n      <td>4. TEMPORARY</td>\n      <td>45</td>\n      <td>2000-01-03T00:00:00.000</td>\n      <td>1999-10-06T00:00:00.000</td>\n      <td>2000-09-01T00:00:00.000</td>\n      <td>...</td>\n      <td>1</td>\n      <td>Y</td>\n      <td>INSURANCE CO OF GREATER N Y</td>\n      <td>1A. PRIVATE</td>\n      <td>1.0</td>\n      <td>242.0</td>\n      <td>Y</td>\n      <td>N</td>\n      <td>NEW YORK</td>\n      <td>N</td>\n    </tr>\n    <tr>\n      <th>...</th>\n      <td>...</td>\n      <td>...</td>\n      <td>...</td>\n      <td>...</td>\n      <td>...</td>\n      <td>...</td>\n      <td>...</td>\n      <td>...</td>\n      <td>...</td>\n      <td>...</td>\n      <td>...</td>\n      <td>...</td>\n      <td>...</td>\n      <td>...</td>\n      <td>...</td>\n      <td>...</td>\n      <td>...</td>\n      <td>...</td>\n      <td>...</td>\n      <td>...</td>\n      <td>...</td>\n    </tr>\n    <tr>\n      <th>1048570</th>\n      <td>5607272</td>\n      <td>WORKERS COMPENSATION CLAIM</td>\n      <td>NYC</td>\n      <td>0.00</td>\n      <td>NO FURTHER ACTION</td>\n      <td>2. NON-COMP</td>\n      <td>22</td>\n      <td>2020-11-25T00:00:00.000</td>\n      <td>2020-11-23T00:00:00.000</td>\n      <td>NaN</td>\n      <td>...</td>\n      <td>1</td>\n      <td>N</td>\n      <td>PUTNAM VALLEY CENTRAL</td>\n      <td>3A. SELF PUBLIC</td>\n      <td>NaN</td>\n      <td>NaN</td>\n      <td>Y</td>\n      <td>N</td>\n      <td>NASSAU</td>\n      <td>N</td>\n    </tr>\n    <tr>\n      <th>1048571</th>\n      <td>5607276</td>\n      <td>WORKERS COMPENSATION CLAIM</td>\n      <td>NYC</td>\n      <td>0.00</td>\n      <td>NO FURTHER ACTION</td>\n      <td>2. NON-COMP</td>\n      <td>30</td>\n      <td>2020-11-25T00:00:00.000</td>\n      <td>2020-11-13T00:00:00.000</td>\n      <td>NaN</td>\n      <td>...</td>\n      <td>1</td>\n      <td>N</td>\n      <td>UTICA NATIONAL INS CO OF OHIO</td>\n      <td>1A. PRIVATE</td>\n      <td>NaN</td>\n      <td>NaN</td>\n      <td>Y</td>\n      <td>N</td>\n      <td>NASSAU</td>\n      <td>N</td>\n    </tr>\n    <tr>\n      <th>1048572</th>\n      <td>5607291</td>\n      <td>WORKERS COMPENSATION CLAIM</td>\n      <td>NYC</td>\n      <td>0.00</td>\n      <td>NO FURTHER ACTION</td>\n      <td>2. NON-COMP</td>\n      <td>54</td>\n      <td>2020-11-25T00:00:00.000</td>\n      <td>2020-11-23T00:00:00.000</td>\n      <td>NaN</td>\n      <td>...</td>\n      <td>1</td>\n      <td>N</td>\n      <td>INDEMNITY INS. OF N AMERICA</td>\n      <td>1a. PRIVATE</td>\n      <td>NaN</td>\n      <td>NaN</td>\n      <td>Y</td>\n      <td>N</td>\n      <td>NEW YORK</td>\n      <td>N</td>\n    </tr>\n    <tr>\n      <th>1048573</th>\n      <td>5607390</td>\n      <td>WORKERS COMPENSATION CLAIM</td>\n      <td>ALBANY</td>\n      <td>0.00</td>\n      <td>NO FURTHER ACTION</td>\n      <td>2. NON-COMP</td>\n      <td>27</td>\n      <td>2020-11-27T00:00:00.000</td>\n      <td>2020-11-17T00:00:00.000</td>\n      <td>NaN</td>\n      <td>...</td>\n      <td>1</td>\n      <td>N</td>\n      <td>STATE INSURANCE FUND</td>\n      <td>2a. SIF</td>\n      <td>NaN</td>\n      <td>NaN</td>\n      <td>Y</td>\n      <td>N</td>\n      <td>WASHINGTON</td>\n      <td>N</td>\n    </tr>\n    <tr>\n      <th>1048574</th>\n      <td>5607631</td>\n      <td>WORKERS COMPENSATION CLAIM</td>\n      <td>HAUPPAUGE</td>\n      <td>0.00</td>\n      <td>NO FURTHER ACTION</td>\n      <td>2. NON-COMP</td>\n      <td>39</td>\n      <td>2020-11-27T00:00:00.000</td>\n      <td>2020-11-03T00:00:00.000</td>\n      <td>NaN</td>\n      <td>...</td>\n      <td>1</td>\n      <td>N</td>\n      <td>POLICE, FIRE, SANITATION</td>\n      <td>3A. SELF PUBLIC</td>\n      <td>NaN</td>\n      <td>NaN</td>\n      <td>Y</td>\n      <td>N</td>\n      <td>SUFFOLK</td>\n      <td>N</td>\n    </tr>\n  </tbody>\n</table>\n<p>1048575 rows × 52 columns</p>\n</div>",
      "text/plain": "         Claim Identifier                  Claim Type District Name  \\\n0                       1  WORKERS COMPENSATION CLAIM           NYC   \n1                       2  WORKERS COMPENSATION CLAIM           NYC   \n2                       3  WORKERS COMPENSATION CLAIM           NYC   \n3                       4  WORKERS COMPENSATION CLAIM           NYC   \n4                       6  WORKERS COMPENSATION CLAIM           NYC   \n...                   ...                         ...           ...   \n1048570           5607272  WORKERS COMPENSATION CLAIM           NYC   \n1048571           5607276  WORKERS COMPENSATION CLAIM           NYC   \n1048572           5607291  WORKERS COMPENSATION CLAIM           NYC   \n1048573           5607390  WORKERS COMPENSATION CLAIM        ALBANY   \n1048574           5607631  WORKERS COMPENSATION CLAIM     HAUPPAUGE   \n\n         Average Weekly Wage Current Claim Status Claim Injury Type  \\\n0                     200.00    NO FURTHER ACTION   5. PPD SCH LOSS   \n1                     296.51    NO FURTHER ACTION        6. PPD NSL   \n2                       0.00    NO FURTHER ACTION       2. NON-COMP   \n3                     250.00    NO FURTHER ACTION   5. PPD SCH LOSS   \n4                     584.33    NO FURTHER ACTION      4. TEMPORARY   \n...                      ...                  ...               ...   \n1048570                 0.00    NO FURTHER ACTION       2. NON-COMP   \n1048571                 0.00    NO FURTHER ACTION       2. NON-COMP   \n1048572                 0.00    NO FURTHER ACTION       2. NON-COMP   \n1048573                 0.00    NO FURTHER ACTION       2. NON-COMP   \n1048574                 0.00    NO FURTHER ACTION       2. NON-COMP   \n\n         Age at Injury            Assembly Date            Accident Date  \\\n0                   72  2000-01-03T00:00:00.000  1999-11-01T00:00:00.000   \n1                   43  2000-01-03T00:00:00.000  1999-08-31T00:00:00.000   \n2                   69  2000-01-03T00:00:00.000  1999-11-01T00:00:00.000   \n3                   38  2000-01-03T00:00:00.000  1999-11-18T00:00:00.000   \n4                   45  2000-01-03T00:00:00.000  1999-10-06T00:00:00.000   \n...                ...                      ...                      ...   \n1048570             22  2020-11-25T00:00:00.000  2020-11-23T00:00:00.000   \n1048571             30  2020-11-25T00:00:00.000  2020-11-13T00:00:00.000   \n1048572             54  2020-11-25T00:00:00.000  2020-11-23T00:00:00.000   \n1048573             27  2020-11-27T00:00:00.000  2020-11-17T00:00:00.000   \n1048574             39  2020-11-27T00:00:00.000  2020-11-03T00:00:00.000   \n\n                       ANCR Date  ... Closed Count Attorney/Representative  \\\n0        2001-12-14T00:00:00.000  ...            2                       Y   \n1        2001-03-30T00:00:00.000  ...            8                       Y   \n2                            NaN  ...            1                       N   \n3        2000-08-25T00:00:00.000  ...            2                       Y   \n4        2000-09-01T00:00:00.000  ...            1                       Y   \n...                          ...  ...          ...                     ...   \n1048570                      NaN  ...            1                       N   \n1048571                      NaN  ...            1                       N   \n1048572                      NaN  ...            1                       N   \n1048573                      NaN  ...            1                       N   \n1048574                      NaN  ...            1                       N   \n\n                          Carrier Name     Carrier Type IME-4 Count  \\\n0             POLICE, FIRE, SANITATION  3A. SELF PUBLIC         1.0   \n1           NATIONAL FIRE INSURANCE CO      1A. PRIVATE         6.0   \n2         HEALTH & HOSPITALS CORP. CNY  3A. SELF PUBLIC         NaN   \n3           HEREFORD INSURANCE COMPANY      1A. PRIVATE         1.0   \n4          INSURANCE CO OF GREATER N Y      1A. PRIVATE         1.0   \n...                                ...              ...         ...   \n1048570          PUTNAM VALLEY CENTRAL  3A. SELF PUBLIC         NaN   \n1048571  UTICA NATIONAL INS CO OF OHIO      1A. PRIVATE         NaN   \n1048572    INDEMNITY INS. OF N AMERICA      1a. PRIVATE         NaN   \n1048573           STATE INSURANCE FUND          2a. SIF         NaN   \n1048574       POLICE, FIRE, SANITATION  3A. SELF PUBLIC         NaN   \n\n        Interval Assembled to ANCR  Accident Occupational Disease  \\\n0                            711.0         Y                    N   \n1                            452.0         Y                    N   \n2                              NaN         Y                    N   \n3                            235.0         Y                    N   \n4                            242.0         Y                    N   \n...                            ...       ...                  ...   \n1048570                        NaN         Y                    N   \n1048571                        NaN         Y                    N   \n1048572                        NaN         Y                    N   \n1048573                        NaN         Y                    N   \n1048574                        NaN         Y                    N   \n\n         County of Injury COVID-19 Indicator  \n0                NEW YORK                  N  \n1                NEW YORK                  N  \n2                NEW YORK                  N  \n3                NEW YORK                  N  \n4                NEW YORK                  N  \n...                   ...                ...  \n1048570            NASSAU                  N  \n1048571            NASSAU                  N  \n1048572          NEW YORK                  N  \n1048573        WASHINGTON                  N  \n1048574           SUFFOLK                  N  \n\n[1048575 rows x 52 columns]"
     },
     "execution_count": 3,
     "metadata": {},
     "output_type": "execute_result"
    }
   ],
   "source": [
    "wc_data_df"
   ]
  },
  {
   "cell_type": "code",
   "execution_count": 4,
   "metadata": {},
   "outputs": [
    {
     "name": "stdout",
     "output_type": "stream",
     "text": [
      "Claim Identifier                        int64\n",
      "Claim Type                             object\n",
      "District Name                          object\n",
      "Average Weekly Wage                   float64\n",
      "Current Claim Status                   object\n",
      "Claim Injury Type                      object\n",
      "Age at Injury                           int64\n",
      "Assembly Date                          object\n",
      "Accident Date                          object\n",
      "ANCR Date                              object\n",
      "Controverted Date                      object\n",
      "Section 32 Date                        object\n",
      "PPD Scheduled Loss Date                object\n",
      "PPD Non-Scheduled Loss Date            object\n",
      "PTD Date                               object\n",
      "First Appeal Date                      object\n",
      "WCIO Part Of Body Code                float64\n",
      "WCIO Part Of Body Description          object\n",
      "WCIO Nature of Injury Code            float64\n",
      "WCIO Nature of Injury Description      object\n",
      "WCIO Cause of Injury Code             float64\n",
      "WCIO Cause of Injury Description       object\n",
      "OIICS Part Of Body Code                object\n",
      "OIICS Part Of Body Description         object\n",
      "OIICS Nature of Injury Code            object\n",
      "OIICS Nature of Injury Description     object\n",
      "OIICS Injury Source Code               object\n",
      "OIICS Injury Source Description        object\n",
      "OIICS Event Exposure Code              object\n",
      "OIICS Event Exposure Description       object\n",
      "OIICS Secondary Source Code            object\n",
      "OIICS Secondary Source Description     object\n",
      "Alternative Dispute Resolution         object\n",
      "Gender                                 object\n",
      "Birth Year                              int64\n",
      "Zip Code                               object\n",
      "Medical Fee Region                     object\n",
      "C-2 Date                               object\n",
      "C-3 Date                               object\n",
      "First Hearing Date                     object\n",
      "Highest Process                        object\n",
      "Hearing Count                           int64\n",
      "Closed Count                            int64\n",
      "Attorney/Representative                object\n",
      "Carrier Name                           object\n",
      "Carrier Type                           object\n",
      "IME-4 Count                           float64\n",
      "Interval Assembled to ANCR            float64\n",
      "Accident                               object\n",
      "Occupational Disease                   object\n",
      "County of Injury                       object\n",
      "COVID-19 Indicator                     object\n",
      "dtype: object\n"
     ]
    }
   ],
   "source": [
    "print(wc_data_df.dtypes)"
   ]
  },
  {
   "cell_type": "code",
   "execution_count": 5,
   "metadata": {},
   "outputs": [],
   "source": [
    "# Change to date format  \r\n",
    "wc_data_df['Assembly Date'] = pd.to_datetime(wc_data_df['Assembly Date'])\r\n",
    "wc_data_df['Accident Date'] = pd.to_datetime(wc_data_df['Accident Date'])\r\n",
    "wc_data_df['ANCR Date'] = pd.to_datetime(wc_data_df['ANCR Date'])\r\n",
    "wc_data_df['Controverted Date'] = pd.to_datetime(wc_data_df['Controverted Date'])\r\n",
    "wc_data_df['Section 32 Date'] = pd.to_datetime(wc_data_df['Section 32 Date'])\r\n",
    "wc_data_df['PPD Scheduled Loss Date'] = pd.to_datetime(wc_data_df['PPD Scheduled Loss Date'])\r\n",
    "wc_data_df['PPD Non-Scheduled Loss Date'] = pd.to_datetime(wc_data_df['PPD Non-Scheduled Loss Date'])\r\n",
    "wc_data_df['PTD Date'] = pd.to_datetime(wc_data_df['PTD Date'])\r\n",
    "wc_data_df['First Appeal Date'] = pd.to_datetime(wc_data_df['First Appeal Date'])\r\n",
    "wc_data_df['Birth Year'] = pd.to_datetime(wc_data_df['Birth Year'])\r\n",
    "wc_data_df['C-2 Date'] = pd.to_datetime(wc_data_df['C-2 Date'])\r\n",
    "wc_data_df['C-3 Date'] = pd.to_datetime(wc_data_df['C-3 Date'])\r\n",
    "wc_data_df['First Hearing Date'] = pd.to_datetime(wc_data_df['First Hearing Date'])"
   ]
  },
  {
   "cell_type": "code",
   "execution_count": 6,
   "metadata": {},
   "outputs": [
    {
     "data": {
      "text/html": "<div>\n<style scoped>\n    .dataframe tbody tr th:only-of-type {\n        vertical-align: middle;\n    }\n\n    .dataframe tbody tr th {\n        vertical-align: top;\n    }\n\n    .dataframe thead th {\n        text-align: right;\n    }\n</style>\n<table border=\"1\" class=\"dataframe\">\n  <thead>\n    <tr style=\"text-align: right;\">\n      <th></th>\n      <th>Claim Identifier</th>\n      <th>Claim Type</th>\n      <th>District Name</th>\n      <th>Average Weekly Wage</th>\n      <th>Current Claim Status</th>\n      <th>Claim Injury Type</th>\n      <th>Age at Injury</th>\n      <th>Assembly Date</th>\n      <th>Accident Date</th>\n      <th>ANCR Date</th>\n      <th>...</th>\n      <th>Closed Count</th>\n      <th>Attorney/Representative</th>\n      <th>Carrier Name</th>\n      <th>Carrier Type</th>\n      <th>IME-4 Count</th>\n      <th>Interval Assembled to ANCR</th>\n      <th>Accident</th>\n      <th>Occupational Disease</th>\n      <th>County of Injury</th>\n      <th>COVID-19 Indicator</th>\n    </tr>\n  </thead>\n  <tbody>\n    <tr>\n      <th>0</th>\n      <td>1</td>\n      <td>WORKERS COMPENSATION CLAIM</td>\n      <td>NYC</td>\n      <td>200.00</td>\n      <td>NO FURTHER ACTION</td>\n      <td>5. PPD SCH LOSS</td>\n      <td>72</td>\n      <td>2000-01-03</td>\n      <td>1999-11-01</td>\n      <td>2001-12-14</td>\n      <td>...</td>\n      <td>2</td>\n      <td>Y</td>\n      <td>POLICE, FIRE, SANITATION</td>\n      <td>3A. SELF PUBLIC</td>\n      <td>1.0</td>\n      <td>711.0</td>\n      <td>Y</td>\n      <td>N</td>\n      <td>NEW YORK</td>\n      <td>N</td>\n    </tr>\n    <tr>\n      <th>1</th>\n      <td>2</td>\n      <td>WORKERS COMPENSATION CLAIM</td>\n      <td>NYC</td>\n      <td>296.51</td>\n      <td>NO FURTHER ACTION</td>\n      <td>6. PPD NSL</td>\n      <td>43</td>\n      <td>2000-01-03</td>\n      <td>1999-08-31</td>\n      <td>2001-03-30</td>\n      <td>...</td>\n      <td>8</td>\n      <td>Y</td>\n      <td>NATIONAL FIRE INSURANCE CO</td>\n      <td>1A. PRIVATE</td>\n      <td>6.0</td>\n      <td>452.0</td>\n      <td>Y</td>\n      <td>N</td>\n      <td>NEW YORK</td>\n      <td>N</td>\n    </tr>\n    <tr>\n      <th>2</th>\n      <td>3</td>\n      <td>WORKERS COMPENSATION CLAIM</td>\n      <td>NYC</td>\n      <td>0.00</td>\n      <td>NO FURTHER ACTION</td>\n      <td>2. NON-COMP</td>\n      <td>69</td>\n      <td>2000-01-03</td>\n      <td>1999-11-01</td>\n      <td>NaT</td>\n      <td>...</td>\n      <td>1</td>\n      <td>N</td>\n      <td>HEALTH &amp; HOSPITALS CORP. CNY</td>\n      <td>3A. SELF PUBLIC</td>\n      <td>NaN</td>\n      <td>NaN</td>\n      <td>Y</td>\n      <td>N</td>\n      <td>NEW YORK</td>\n      <td>N</td>\n    </tr>\n    <tr>\n      <th>3</th>\n      <td>4</td>\n      <td>WORKERS COMPENSATION CLAIM</td>\n      <td>NYC</td>\n      <td>250.00</td>\n      <td>NO FURTHER ACTION</td>\n      <td>5. PPD SCH LOSS</td>\n      <td>38</td>\n      <td>2000-01-03</td>\n      <td>1999-11-18</td>\n      <td>2000-08-25</td>\n      <td>...</td>\n      <td>2</td>\n      <td>Y</td>\n      <td>HEREFORD INSURANCE COMPANY</td>\n      <td>1A. PRIVATE</td>\n      <td>1.0</td>\n      <td>235.0</td>\n      <td>Y</td>\n      <td>N</td>\n      <td>NEW YORK</td>\n      <td>N</td>\n    </tr>\n    <tr>\n      <th>4</th>\n      <td>6</td>\n      <td>WORKERS COMPENSATION CLAIM</td>\n      <td>NYC</td>\n      <td>584.33</td>\n      <td>NO FURTHER ACTION</td>\n      <td>4. TEMPORARY</td>\n      <td>45</td>\n      <td>2000-01-03</td>\n      <td>1999-10-06</td>\n      <td>2000-09-01</td>\n      <td>...</td>\n      <td>1</td>\n      <td>Y</td>\n      <td>INSURANCE CO OF GREATER N Y</td>\n      <td>1A. PRIVATE</td>\n      <td>1.0</td>\n      <td>242.0</td>\n      <td>Y</td>\n      <td>N</td>\n      <td>NEW YORK</td>\n      <td>N</td>\n    </tr>\n    <tr>\n      <th>...</th>\n      <td>...</td>\n      <td>...</td>\n      <td>...</td>\n      <td>...</td>\n      <td>...</td>\n      <td>...</td>\n      <td>...</td>\n      <td>...</td>\n      <td>...</td>\n      <td>...</td>\n      <td>...</td>\n      <td>...</td>\n      <td>...</td>\n      <td>...</td>\n      <td>...</td>\n      <td>...</td>\n      <td>...</td>\n      <td>...</td>\n      <td>...</td>\n      <td>...</td>\n      <td>...</td>\n    </tr>\n    <tr>\n      <th>1048570</th>\n      <td>5607272</td>\n      <td>WORKERS COMPENSATION CLAIM</td>\n      <td>NYC</td>\n      <td>0.00</td>\n      <td>NO FURTHER ACTION</td>\n      <td>2. NON-COMP</td>\n      <td>22</td>\n      <td>2020-11-25</td>\n      <td>2020-11-23</td>\n      <td>NaT</td>\n      <td>...</td>\n      <td>1</td>\n      <td>N</td>\n      <td>PUTNAM VALLEY CENTRAL</td>\n      <td>3A. SELF PUBLIC</td>\n      <td>NaN</td>\n      <td>NaN</td>\n      <td>Y</td>\n      <td>N</td>\n      <td>NASSAU</td>\n      <td>N</td>\n    </tr>\n    <tr>\n      <th>1048571</th>\n      <td>5607276</td>\n      <td>WORKERS COMPENSATION CLAIM</td>\n      <td>NYC</td>\n      <td>0.00</td>\n      <td>NO FURTHER ACTION</td>\n      <td>2. NON-COMP</td>\n      <td>30</td>\n      <td>2020-11-25</td>\n      <td>2020-11-13</td>\n      <td>NaT</td>\n      <td>...</td>\n      <td>1</td>\n      <td>N</td>\n      <td>UTICA NATIONAL INS CO OF OHIO</td>\n      <td>1A. PRIVATE</td>\n      <td>NaN</td>\n      <td>NaN</td>\n      <td>Y</td>\n      <td>N</td>\n      <td>NASSAU</td>\n      <td>N</td>\n    </tr>\n    <tr>\n      <th>1048572</th>\n      <td>5607291</td>\n      <td>WORKERS COMPENSATION CLAIM</td>\n      <td>NYC</td>\n      <td>0.00</td>\n      <td>NO FURTHER ACTION</td>\n      <td>2. NON-COMP</td>\n      <td>54</td>\n      <td>2020-11-25</td>\n      <td>2020-11-23</td>\n      <td>NaT</td>\n      <td>...</td>\n      <td>1</td>\n      <td>N</td>\n      <td>INDEMNITY INS. OF N AMERICA</td>\n      <td>1a. PRIVATE</td>\n      <td>NaN</td>\n      <td>NaN</td>\n      <td>Y</td>\n      <td>N</td>\n      <td>NEW YORK</td>\n      <td>N</td>\n    </tr>\n    <tr>\n      <th>1048573</th>\n      <td>5607390</td>\n      <td>WORKERS COMPENSATION CLAIM</td>\n      <td>ALBANY</td>\n      <td>0.00</td>\n      <td>NO FURTHER ACTION</td>\n      <td>2. NON-COMP</td>\n      <td>27</td>\n      <td>2020-11-27</td>\n      <td>2020-11-17</td>\n      <td>NaT</td>\n      <td>...</td>\n      <td>1</td>\n      <td>N</td>\n      <td>STATE INSURANCE FUND</td>\n      <td>2a. SIF</td>\n      <td>NaN</td>\n      <td>NaN</td>\n      <td>Y</td>\n      <td>N</td>\n      <td>WASHINGTON</td>\n      <td>N</td>\n    </tr>\n    <tr>\n      <th>1048574</th>\n      <td>5607631</td>\n      <td>WORKERS COMPENSATION CLAIM</td>\n      <td>HAUPPAUGE</td>\n      <td>0.00</td>\n      <td>NO FURTHER ACTION</td>\n      <td>2. NON-COMP</td>\n      <td>39</td>\n      <td>2020-11-27</td>\n      <td>2020-11-03</td>\n      <td>NaT</td>\n      <td>...</td>\n      <td>1</td>\n      <td>N</td>\n      <td>POLICE, FIRE, SANITATION</td>\n      <td>3A. SELF PUBLIC</td>\n      <td>NaN</td>\n      <td>NaN</td>\n      <td>Y</td>\n      <td>N</td>\n      <td>SUFFOLK</td>\n      <td>N</td>\n    </tr>\n  </tbody>\n</table>\n<p>1048575 rows × 52 columns</p>\n</div>",
      "text/plain": "         Claim Identifier                  Claim Type District Name  \\\n0                       1  WORKERS COMPENSATION CLAIM           NYC   \n1                       2  WORKERS COMPENSATION CLAIM           NYC   \n2                       3  WORKERS COMPENSATION CLAIM           NYC   \n3                       4  WORKERS COMPENSATION CLAIM           NYC   \n4                       6  WORKERS COMPENSATION CLAIM           NYC   \n...                   ...                         ...           ...   \n1048570           5607272  WORKERS COMPENSATION CLAIM           NYC   \n1048571           5607276  WORKERS COMPENSATION CLAIM           NYC   \n1048572           5607291  WORKERS COMPENSATION CLAIM           NYC   \n1048573           5607390  WORKERS COMPENSATION CLAIM        ALBANY   \n1048574           5607631  WORKERS COMPENSATION CLAIM     HAUPPAUGE   \n\n         Average Weekly Wage Current Claim Status Claim Injury Type  \\\n0                     200.00    NO FURTHER ACTION   5. PPD SCH LOSS   \n1                     296.51    NO FURTHER ACTION        6. PPD NSL   \n2                       0.00    NO FURTHER ACTION       2. NON-COMP   \n3                     250.00    NO FURTHER ACTION   5. PPD SCH LOSS   \n4                     584.33    NO FURTHER ACTION      4. TEMPORARY   \n...                      ...                  ...               ...   \n1048570                 0.00    NO FURTHER ACTION       2. NON-COMP   \n1048571                 0.00    NO FURTHER ACTION       2. NON-COMP   \n1048572                 0.00    NO FURTHER ACTION       2. NON-COMP   \n1048573                 0.00    NO FURTHER ACTION       2. NON-COMP   \n1048574                 0.00    NO FURTHER ACTION       2. NON-COMP   \n\n         Age at Injury Assembly Date Accident Date  ANCR Date  ...  \\\n0                   72    2000-01-03    1999-11-01 2001-12-14  ...   \n1                   43    2000-01-03    1999-08-31 2001-03-30  ...   \n2                   69    2000-01-03    1999-11-01        NaT  ...   \n3                   38    2000-01-03    1999-11-18 2000-08-25  ...   \n4                   45    2000-01-03    1999-10-06 2000-09-01  ...   \n...                ...           ...           ...        ...  ...   \n1048570             22    2020-11-25    2020-11-23        NaT  ...   \n1048571             30    2020-11-25    2020-11-13        NaT  ...   \n1048572             54    2020-11-25    2020-11-23        NaT  ...   \n1048573             27    2020-11-27    2020-11-17        NaT  ...   \n1048574             39    2020-11-27    2020-11-03        NaT  ...   \n\n        Closed Count Attorney/Representative                   Carrier Name  \\\n0                  2                       Y       POLICE, FIRE, SANITATION   \n1                  8                       Y     NATIONAL FIRE INSURANCE CO   \n2                  1                       N   HEALTH & HOSPITALS CORP. CNY   \n3                  2                       Y     HEREFORD INSURANCE COMPANY   \n4                  1                       Y    INSURANCE CO OF GREATER N Y   \n...              ...                     ...                            ...   \n1048570            1                       N          PUTNAM VALLEY CENTRAL   \n1048571            1                       N  UTICA NATIONAL INS CO OF OHIO   \n1048572            1                       N    INDEMNITY INS. OF N AMERICA   \n1048573            1                       N           STATE INSURANCE FUND   \n1048574            1                       N       POLICE, FIRE, SANITATION   \n\n            Carrier Type IME-4 Count Interval Assembled to ANCR  Accident  \\\n0        3A. SELF PUBLIC         1.0                      711.0         Y   \n1            1A. PRIVATE         6.0                      452.0         Y   \n2        3A. SELF PUBLIC         NaN                        NaN         Y   \n3            1A. PRIVATE         1.0                      235.0         Y   \n4            1A. PRIVATE         1.0                      242.0         Y   \n...                  ...         ...                        ...       ...   \n1048570  3A. SELF PUBLIC         NaN                        NaN         Y   \n1048571      1A. PRIVATE         NaN                        NaN         Y   \n1048572      1a. PRIVATE         NaN                        NaN         Y   \n1048573          2a. SIF         NaN                        NaN         Y   \n1048574  3A. SELF PUBLIC         NaN                        NaN         Y   \n\n        Occupational Disease  County of Injury COVID-19 Indicator  \n0                          N          NEW YORK                  N  \n1                          N          NEW YORK                  N  \n2                          N          NEW YORK                  N  \n3                          N          NEW YORK                  N  \n4                          N          NEW YORK                  N  \n...                      ...               ...                ...  \n1048570                    N            NASSAU                  N  \n1048571                    N            NASSAU                  N  \n1048572                    N          NEW YORK                  N  \n1048573                    N        WASHINGTON                  N  \n1048574                    N           SUFFOLK                  N  \n\n[1048575 rows x 52 columns]"
     },
     "execution_count": 6,
     "metadata": {},
     "output_type": "execute_result"
    }
   ],
   "source": [
    "wc_data_df"
   ]
  },
  {
   "cell_type": "code",
   "execution_count": 7,
   "metadata": {},
   "outputs": [],
   "source": [
    "# Drop claims that are not workers comp\r\n",
    "wc_data_df = wc_data_df[wc_data_df['Claim Type'] == 'WORKERS COMPENSATION CLAIM']"
   ]
  },
  {
   "cell_type": "code",
   "execution_count": 8,
   "metadata": {},
   "outputs": [
    {
     "data": {
      "text/html": "<div>\n<style scoped>\n    .dataframe tbody tr th:only-of-type {\n        vertical-align: middle;\n    }\n\n    .dataframe tbody tr th {\n        vertical-align: top;\n    }\n\n    .dataframe thead th {\n        text-align: right;\n    }\n</style>\n<table border=\"1\" class=\"dataframe\">\n  <thead>\n    <tr style=\"text-align: right;\">\n      <th></th>\n      <th>Claim Identifier</th>\n      <th>Claim Type</th>\n      <th>District Name</th>\n      <th>Average Weekly Wage</th>\n      <th>Current Claim Status</th>\n      <th>Claim Injury Type</th>\n      <th>Age at Injury</th>\n      <th>Assembly Date</th>\n      <th>Accident Date</th>\n      <th>ANCR Date</th>\n      <th>...</th>\n      <th>Closed Count</th>\n      <th>Attorney/Representative</th>\n      <th>Carrier Name</th>\n      <th>Carrier Type</th>\n      <th>IME-4 Count</th>\n      <th>Interval Assembled to ANCR</th>\n      <th>Accident</th>\n      <th>Occupational Disease</th>\n      <th>County of Injury</th>\n      <th>COVID-19 Indicator</th>\n    </tr>\n  </thead>\n  <tbody>\n    <tr>\n      <th>0</th>\n      <td>1</td>\n      <td>WORKERS COMPENSATION CLAIM</td>\n      <td>NYC</td>\n      <td>200.00</td>\n      <td>NO FURTHER ACTION</td>\n      <td>5. PPD SCH LOSS</td>\n      <td>72</td>\n      <td>2000-01-03</td>\n      <td>1999-11-01</td>\n      <td>2001-12-14</td>\n      <td>...</td>\n      <td>2</td>\n      <td>Y</td>\n      <td>POLICE, FIRE, SANITATION</td>\n      <td>3A. SELF PUBLIC</td>\n      <td>1.0</td>\n      <td>711.0</td>\n      <td>Y</td>\n      <td>N</td>\n      <td>NEW YORK</td>\n      <td>N</td>\n    </tr>\n    <tr>\n      <th>1</th>\n      <td>2</td>\n      <td>WORKERS COMPENSATION CLAIM</td>\n      <td>NYC</td>\n      <td>296.51</td>\n      <td>NO FURTHER ACTION</td>\n      <td>6. PPD NSL</td>\n      <td>43</td>\n      <td>2000-01-03</td>\n      <td>1999-08-31</td>\n      <td>2001-03-30</td>\n      <td>...</td>\n      <td>8</td>\n      <td>Y</td>\n      <td>NATIONAL FIRE INSURANCE CO</td>\n      <td>1A. PRIVATE</td>\n      <td>6.0</td>\n      <td>452.0</td>\n      <td>Y</td>\n      <td>N</td>\n      <td>NEW YORK</td>\n      <td>N</td>\n    </tr>\n    <tr>\n      <th>2</th>\n      <td>3</td>\n      <td>WORKERS COMPENSATION CLAIM</td>\n      <td>NYC</td>\n      <td>0.00</td>\n      <td>NO FURTHER ACTION</td>\n      <td>2. NON-COMP</td>\n      <td>69</td>\n      <td>2000-01-03</td>\n      <td>1999-11-01</td>\n      <td>NaT</td>\n      <td>...</td>\n      <td>1</td>\n      <td>N</td>\n      <td>HEALTH &amp; HOSPITALS CORP. CNY</td>\n      <td>3A. SELF PUBLIC</td>\n      <td>NaN</td>\n      <td>NaN</td>\n      <td>Y</td>\n      <td>N</td>\n      <td>NEW YORK</td>\n      <td>N</td>\n    </tr>\n    <tr>\n      <th>3</th>\n      <td>4</td>\n      <td>WORKERS COMPENSATION CLAIM</td>\n      <td>NYC</td>\n      <td>250.00</td>\n      <td>NO FURTHER ACTION</td>\n      <td>5. PPD SCH LOSS</td>\n      <td>38</td>\n      <td>2000-01-03</td>\n      <td>1999-11-18</td>\n      <td>2000-08-25</td>\n      <td>...</td>\n      <td>2</td>\n      <td>Y</td>\n      <td>HEREFORD INSURANCE COMPANY</td>\n      <td>1A. PRIVATE</td>\n      <td>1.0</td>\n      <td>235.0</td>\n      <td>Y</td>\n      <td>N</td>\n      <td>NEW YORK</td>\n      <td>N</td>\n    </tr>\n    <tr>\n      <th>4</th>\n      <td>6</td>\n      <td>WORKERS COMPENSATION CLAIM</td>\n      <td>NYC</td>\n      <td>584.33</td>\n      <td>NO FURTHER ACTION</td>\n      <td>4. TEMPORARY</td>\n      <td>45</td>\n      <td>2000-01-03</td>\n      <td>1999-10-06</td>\n      <td>2000-09-01</td>\n      <td>...</td>\n      <td>1</td>\n      <td>Y</td>\n      <td>INSURANCE CO OF GREATER N Y</td>\n      <td>1A. PRIVATE</td>\n      <td>1.0</td>\n      <td>242.0</td>\n      <td>Y</td>\n      <td>N</td>\n      <td>NEW YORK</td>\n      <td>N</td>\n    </tr>\n    <tr>\n      <th>...</th>\n      <td>...</td>\n      <td>...</td>\n      <td>...</td>\n      <td>...</td>\n      <td>...</td>\n      <td>...</td>\n      <td>...</td>\n      <td>...</td>\n      <td>...</td>\n      <td>...</td>\n      <td>...</td>\n      <td>...</td>\n      <td>...</td>\n      <td>...</td>\n      <td>...</td>\n      <td>...</td>\n      <td>...</td>\n      <td>...</td>\n      <td>...</td>\n      <td>...</td>\n      <td>...</td>\n    </tr>\n    <tr>\n      <th>1048570</th>\n      <td>5607272</td>\n      <td>WORKERS COMPENSATION CLAIM</td>\n      <td>NYC</td>\n      <td>0.00</td>\n      <td>NO FURTHER ACTION</td>\n      <td>2. NON-COMP</td>\n      <td>22</td>\n      <td>2020-11-25</td>\n      <td>2020-11-23</td>\n      <td>NaT</td>\n      <td>...</td>\n      <td>1</td>\n      <td>N</td>\n      <td>PUTNAM VALLEY CENTRAL</td>\n      <td>3A. SELF PUBLIC</td>\n      <td>NaN</td>\n      <td>NaN</td>\n      <td>Y</td>\n      <td>N</td>\n      <td>NASSAU</td>\n      <td>N</td>\n    </tr>\n    <tr>\n      <th>1048571</th>\n      <td>5607276</td>\n      <td>WORKERS COMPENSATION CLAIM</td>\n      <td>NYC</td>\n      <td>0.00</td>\n      <td>NO FURTHER ACTION</td>\n      <td>2. NON-COMP</td>\n      <td>30</td>\n      <td>2020-11-25</td>\n      <td>2020-11-13</td>\n      <td>NaT</td>\n      <td>...</td>\n      <td>1</td>\n      <td>N</td>\n      <td>UTICA NATIONAL INS CO OF OHIO</td>\n      <td>1A. PRIVATE</td>\n      <td>NaN</td>\n      <td>NaN</td>\n      <td>Y</td>\n      <td>N</td>\n      <td>NASSAU</td>\n      <td>N</td>\n    </tr>\n    <tr>\n      <th>1048572</th>\n      <td>5607291</td>\n      <td>WORKERS COMPENSATION CLAIM</td>\n      <td>NYC</td>\n      <td>0.00</td>\n      <td>NO FURTHER ACTION</td>\n      <td>2. NON-COMP</td>\n      <td>54</td>\n      <td>2020-11-25</td>\n      <td>2020-11-23</td>\n      <td>NaT</td>\n      <td>...</td>\n      <td>1</td>\n      <td>N</td>\n      <td>INDEMNITY INS. OF N AMERICA</td>\n      <td>1a. PRIVATE</td>\n      <td>NaN</td>\n      <td>NaN</td>\n      <td>Y</td>\n      <td>N</td>\n      <td>NEW YORK</td>\n      <td>N</td>\n    </tr>\n    <tr>\n      <th>1048573</th>\n      <td>5607390</td>\n      <td>WORKERS COMPENSATION CLAIM</td>\n      <td>ALBANY</td>\n      <td>0.00</td>\n      <td>NO FURTHER ACTION</td>\n      <td>2. NON-COMP</td>\n      <td>27</td>\n      <td>2020-11-27</td>\n      <td>2020-11-17</td>\n      <td>NaT</td>\n      <td>...</td>\n      <td>1</td>\n      <td>N</td>\n      <td>STATE INSURANCE FUND</td>\n      <td>2a. SIF</td>\n      <td>NaN</td>\n      <td>NaN</td>\n      <td>Y</td>\n      <td>N</td>\n      <td>WASHINGTON</td>\n      <td>N</td>\n    </tr>\n    <tr>\n      <th>1048574</th>\n      <td>5607631</td>\n      <td>WORKERS COMPENSATION CLAIM</td>\n      <td>HAUPPAUGE</td>\n      <td>0.00</td>\n      <td>NO FURTHER ACTION</td>\n      <td>2. NON-COMP</td>\n      <td>39</td>\n      <td>2020-11-27</td>\n      <td>2020-11-03</td>\n      <td>NaT</td>\n      <td>...</td>\n      <td>1</td>\n      <td>N</td>\n      <td>POLICE, FIRE, SANITATION</td>\n      <td>3A. SELF PUBLIC</td>\n      <td>NaN</td>\n      <td>NaN</td>\n      <td>Y</td>\n      <td>N</td>\n      <td>SUFFOLK</td>\n      <td>N</td>\n    </tr>\n  </tbody>\n</table>\n<p>1039871 rows × 52 columns</p>\n</div>",
      "text/plain": "         Claim Identifier                  Claim Type District Name  \\\n0                       1  WORKERS COMPENSATION CLAIM           NYC   \n1                       2  WORKERS COMPENSATION CLAIM           NYC   \n2                       3  WORKERS COMPENSATION CLAIM           NYC   \n3                       4  WORKERS COMPENSATION CLAIM           NYC   \n4                       6  WORKERS COMPENSATION CLAIM           NYC   \n...                   ...                         ...           ...   \n1048570           5607272  WORKERS COMPENSATION CLAIM           NYC   \n1048571           5607276  WORKERS COMPENSATION CLAIM           NYC   \n1048572           5607291  WORKERS COMPENSATION CLAIM           NYC   \n1048573           5607390  WORKERS COMPENSATION CLAIM        ALBANY   \n1048574           5607631  WORKERS COMPENSATION CLAIM     HAUPPAUGE   \n\n         Average Weekly Wage Current Claim Status Claim Injury Type  \\\n0                     200.00    NO FURTHER ACTION   5. PPD SCH LOSS   \n1                     296.51    NO FURTHER ACTION        6. PPD NSL   \n2                       0.00    NO FURTHER ACTION       2. NON-COMP   \n3                     250.00    NO FURTHER ACTION   5. PPD SCH LOSS   \n4                     584.33    NO FURTHER ACTION      4. TEMPORARY   \n...                      ...                  ...               ...   \n1048570                 0.00    NO FURTHER ACTION       2. NON-COMP   \n1048571                 0.00    NO FURTHER ACTION       2. NON-COMP   \n1048572                 0.00    NO FURTHER ACTION       2. NON-COMP   \n1048573                 0.00    NO FURTHER ACTION       2. NON-COMP   \n1048574                 0.00    NO FURTHER ACTION       2. NON-COMP   \n\n         Age at Injury Assembly Date Accident Date  ANCR Date  ...  \\\n0                   72    2000-01-03    1999-11-01 2001-12-14  ...   \n1                   43    2000-01-03    1999-08-31 2001-03-30  ...   \n2                   69    2000-01-03    1999-11-01        NaT  ...   \n3                   38    2000-01-03    1999-11-18 2000-08-25  ...   \n4                   45    2000-01-03    1999-10-06 2000-09-01  ...   \n...                ...           ...           ...        ...  ...   \n1048570             22    2020-11-25    2020-11-23        NaT  ...   \n1048571             30    2020-11-25    2020-11-13        NaT  ...   \n1048572             54    2020-11-25    2020-11-23        NaT  ...   \n1048573             27    2020-11-27    2020-11-17        NaT  ...   \n1048574             39    2020-11-27    2020-11-03        NaT  ...   \n\n        Closed Count Attorney/Representative                   Carrier Name  \\\n0                  2                       Y       POLICE, FIRE, SANITATION   \n1                  8                       Y     NATIONAL FIRE INSURANCE CO   \n2                  1                       N   HEALTH & HOSPITALS CORP. CNY   \n3                  2                       Y     HEREFORD INSURANCE COMPANY   \n4                  1                       Y    INSURANCE CO OF GREATER N Y   \n...              ...                     ...                            ...   \n1048570            1                       N          PUTNAM VALLEY CENTRAL   \n1048571            1                       N  UTICA NATIONAL INS CO OF OHIO   \n1048572            1                       N    INDEMNITY INS. OF N AMERICA   \n1048573            1                       N           STATE INSURANCE FUND   \n1048574            1                       N       POLICE, FIRE, SANITATION   \n\n            Carrier Type IME-4 Count Interval Assembled to ANCR  Accident  \\\n0        3A. SELF PUBLIC         1.0                      711.0         Y   \n1            1A. PRIVATE         6.0                      452.0         Y   \n2        3A. SELF PUBLIC         NaN                        NaN         Y   \n3            1A. PRIVATE         1.0                      235.0         Y   \n4            1A. PRIVATE         1.0                      242.0         Y   \n...                  ...         ...                        ...       ...   \n1048570  3A. SELF PUBLIC         NaN                        NaN         Y   \n1048571      1A. PRIVATE         NaN                        NaN         Y   \n1048572      1a. PRIVATE         NaN                        NaN         Y   \n1048573          2a. SIF         NaN                        NaN         Y   \n1048574  3A. SELF PUBLIC         NaN                        NaN         Y   \n\n        Occupational Disease  County of Injury COVID-19 Indicator  \n0                          N          NEW YORK                  N  \n1                          N          NEW YORK                  N  \n2                          N          NEW YORK                  N  \n3                          N          NEW YORK                  N  \n4                          N          NEW YORK                  N  \n...                      ...               ...                ...  \n1048570                    N            NASSAU                  N  \n1048571                    N            NASSAU                  N  \n1048572                    N          NEW YORK                  N  \n1048573                    N        WASHINGTON                  N  \n1048574                    N           SUFFOLK                  N  \n\n[1039871 rows x 52 columns]"
     },
     "execution_count": 8,
     "metadata": {},
     "output_type": "execute_result"
    }
   ],
   "source": [
    "wc_data_df"
   ]
  },
  {
   "cell_type": "code",
   "execution_count": 9,
   "metadata": {},
   "outputs": [],
   "source": [
    "# Drop rows not relevant to other jurisdictions\r\n",
    "wc_data_df = wc_data_df.drop(columns='Carrier Name')\r\n",
    "wc_data_df = wc_data_df.drop(columns='Carrier Type')\r\n",
    "#wc_data_df = wc_data_df.drop(columns='County of Injury')"
   ]
  },
  {
   "cell_type": "code",
   "execution_count": null,
   "metadata": {},
   "outputs": [],
   "source": [
    "wc_data_df"
   ]
  },
  {
   "cell_type": "code",
   "execution_count": 11,
   "metadata": {},
   "outputs": [],
   "source": [
    "# Convert items to string\r\n",
    "wc_data_df['Gender'] = wc_data_df['Gender'].astype(str)\r\n",
    "wc_data_df['Accident'] = wc_data_df['Accident'].astype(str)\r\n",
    "wc_data_df['Occupational Disease'] = wc_data_df['Occupational Disease'].astype(str)\r\n",
    "wc_data_df['WCIO Part Of Body Description'] = wc_data_df['WCIO Part Of Body Description'].astype(str)\r\n",
    "wc_data_df['WCIO Cause of Injury Description'] = wc_data_df['WCIO Cause of Injury Description'].astype(str)\r\n",
    "# wc_data_df['Gender'] = wc_data_df[''].astype(str)"
   ]
  },
  {
   "cell_type": "code",
   "execution_count": null,
   "metadata": {},
   "outputs": [],
   "source": [
    "# Is incident accident or occupational disease? \r\n",
    "wc_data_df['Accident'] = wc_data_df['Accident'].astype(str)\r\n",
    "wc_data_df['Occupational Disease'] = wc_data_df['Occupational Disease'].astype(str)\r\n",
    "# accident = wc_data_df[['Accident'] == 'Y']"
   ]
  },
  {
   "cell_type": "code",
   "execution_count": null,
   "metadata": {},
   "outputs": [],
   "source": []
  }
 ],
 "metadata": {
  "kernelspec": {
   "display_name": "Python 3.8.8 64-bit ('base': conda)",
   "name": "python388jvsc74a57bd01f9996f6f32af82c4e176a0a6d5057d1b4d3b6190a2312ab7d514f9db0090e01"
  },
  "language_info": {
   "codemirror_mode": {
    "name": "ipython",
    "version": 3
   },
   "file_extension": ".py",
   "mimetype": "text/x-python",
   "name": "python",
   "nbconvert_exporter": "python",
   "pygments_lexer": "ipython3",
   "version": "3.8.8"
  },
  "orig_nbformat": 3
 },
 "nbformat": 4,
 "nbformat_minor": 2
}